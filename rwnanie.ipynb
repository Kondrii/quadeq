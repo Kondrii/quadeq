{
 "cells": [
  {
   "cell_type": "code",
   "execution_count": 24,
   "metadata": {
    "collapsed": false
   },
   "outputs": [
    {
     "name": "stdout",
     "output_type": "stream",
     "text": [
      "Enter the a, b and c separeted by commas: 2,7,3\n",
      "This equation has two solutions: -3.0 -0.5\n"
     ]
    },
    {
     "data": {
      "text/plain": [
       "(-3.0, -0.5)"
      ]
     },
     "execution_count": 24,
     "metadata": {},
     "output_type": "execute_result"
    }
   ],
   "source": [
    "import math\n",
    "def rownianie_kwadratowe(a, b, c):\n",
    "    if a == 0 and b == 0:\n",
    "        return None\n",
    "    if a == 0:\n",
    "        x = -c/(b*1.0)\n",
    "        print \"This equation is linear, solutions is: \", x \n",
    "        return x\n",
    "    delta = b**2. - (4. * a * c)\n",
    "    if delta < 0:\n",
    "        print \"This equation has no real solutions\"\n",
    "        return None\n",
    "    elif delta == 0:\n",
    "        x0 = -b/(2.*a)\n",
    "        print \"This equation has two solutions: \", x0\n",
    "        return x0\n",
    "    else:\n",
    "        x1 = (-b - math.sqrt(delta))/(2.*a)\n",
    "        x2 = (-b + math.sqrt(delta))/(2.*a) \n",
    "        print \"This equation has two solutions:\", x1, x2\n",
    "        return x1, x2\n",
    "a = float(sys.argv[1])
    "b = float(sys.argv[2])
    "c = float(sys.argv[3])
    "rownianie_kwadratowe(a,b,c)"
   ]
  }
 ],
 "metadata": {
  "kernelspec": {
   "display_name": "Python 2",
   "language": "python",
   "name": "python2"
  },
  "language_info": {
   "codemirror_mode": {
    "name": "ipython",
    "version": 2
   },
   "file_extension": ".py",
   "mimetype": "text/x-python",
   "name": "python",
   "nbconvert_exporter": "python",
   "pygments_lexer": "ipython2",
   "version": "2.7.12"
  }
 },
 "nbformat": 4,
 "nbformat_minor": 1
}
